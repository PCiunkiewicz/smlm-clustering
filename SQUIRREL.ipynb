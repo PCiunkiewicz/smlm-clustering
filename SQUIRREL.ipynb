{
 "cells": [
  {
   "cell_type": "code",
   "execution_count": 112,
   "metadata": {},
   "outputs": [],
   "source": [
    "import scipy as sp\n",
    "import numpy as np\n",
    "import pandas as pd\n",
    "import matplotlib.pyplot as plt\n",
    "import matplotlib as mpl\n",
    "\n",
    "import os\n",
    "from IPython.core.interactiveshell import InteractiveShell\n",
    "from importlib import reload"
   ]
  },
  {
   "cell_type": "code",
   "execution_count": 113,
   "metadata": {},
   "outputs": [],
   "source": [
    "InteractiveShell.ast_node_interactivity = 'all'\n",
    "mpl.rcParams['figure.figsize'] = [8.0, 4.0]"
   ]
  },
  {
   "cell_type": "code",
   "execution_count": 114,
   "metadata": {},
   "outputs": [
    {
     "data": {
      "text/html": [
       "<div>\n",
       "<style scoped>\n",
       "    .dataframe tbody tr th:only-of-type {\n",
       "        vertical-align: middle;\n",
       "    }\n",
       "\n",
       "    .dataframe tbody tr th {\n",
       "        vertical-align: top;\n",
       "    }\n",
       "\n",
       "    .dataframe thead th {\n",
       "        text-align: right;\n",
       "    }\n",
       "</style>\n",
       "<table border=\"1\" class=\"dataframe\">\n",
       "  <thead>\n",
       "    <tr style=\"text-align: right;\">\n",
       "      <th></th>\n",
       "      <th>RSP (TS)</th>\n",
       "      <th>RSE (TS)</th>\n",
       "      <th>RSP (WS)</th>\n",
       "      <th>RSE (WS)</th>\n",
       "      <th>filename</th>\n",
       "    </tr>\n",
       "  </thead>\n",
       "  <tbody>\n",
       "    <tr>\n",
       "      <th>0</th>\n",
       "      <td>0.922</td>\n",
       "      <td>65.962</td>\n",
       "      <td>0.880</td>\n",
       "      <td>81.171</td>\n",
       "      <td>Cell_Microtubule_Alexa647</td>\n",
       "    </tr>\n",
       "    <tr>\n",
       "      <th>1</th>\n",
       "      <td>0.660</td>\n",
       "      <td>86.260</td>\n",
       "      <td>0.733</td>\n",
       "      <td>77.230</td>\n",
       "      <td>Cell_Microtubule_mEos32</td>\n",
       "    </tr>\n",
       "    <tr>\n",
       "      <th>2</th>\n",
       "      <td>0.755</td>\n",
       "      <td>184.510</td>\n",
       "      <td>0.767</td>\n",
       "      <td>173.938</td>\n",
       "      <td>Diskovery_Cell1_TopCenter_crop</td>\n",
       "    </tr>\n",
       "    <tr>\n",
       "      <th>3</th>\n",
       "      <td>0.887</td>\n",
       "      <td>61.402</td>\n",
       "      <td>0.903</td>\n",
       "      <td>57.870</td>\n",
       "      <td>FL_Microtubule_Alexa647</td>\n",
       "    </tr>\n",
       "    <tr>\n",
       "      <th>4</th>\n",
       "      <td>0.897</td>\n",
       "      <td>20.359</td>\n",
       "      <td>0.949</td>\n",
       "      <td>14.560</td>\n",
       "      <td>Helicoidal_Tubes_3_HD</td>\n",
       "    </tr>\n",
       "    <tr>\n",
       "      <th>5</th>\n",
       "      <td>0.567</td>\n",
       "      <td>159.112</td>\n",
       "      <td>0.474</td>\n",
       "      <td>167.512</td>\n",
       "      <td>Tissue_Chromatin_Alexa647</td>\n",
       "    </tr>\n",
       "    <tr>\n",
       "      <th>6</th>\n",
       "      <td>0.887</td>\n",
       "      <td>61.402</td>\n",
       "      <td>0.903</td>\n",
       "      <td>57.870</td>\n",
       "      <td>Tubulin_2D_High_Density</td>\n",
       "    </tr>\n",
       "  </tbody>\n",
       "</table>\n",
       "</div>"
      ],
      "text/plain": [
       "   RSP (TS)  RSE (TS)  RSP (WS)  RSE (WS)                        filename\n",
       "0     0.922    65.962     0.880    81.171       Cell_Microtubule_Alexa647\n",
       "1     0.660    86.260     0.733    77.230         Cell_Microtubule_mEos32\n",
       "2     0.755   184.510     0.767   173.938  Diskovery_Cell1_TopCenter_crop\n",
       "3     0.887    61.402     0.903    57.870         FL_Microtubule_Alexa647\n",
       "4     0.897    20.359     0.949    14.560           Helicoidal_Tubes_3_HD\n",
       "5     0.567   159.112     0.474   167.512       Tissue_Chromatin_Alexa647\n",
       "6     0.887    61.402     0.903    57.870         Tubulin_2D_High_Density"
      ]
     },
     "execution_count": 114,
     "metadata": {},
     "output_type": "execute_result"
    },
    {
     "data": {
      "image/png": "[encoded data removed]",
      "text/plain": [
       "<Figure size 576x288 with 1 Axes>"
      ]
     },
     "metadata": {
      "needs_background": "light"
     },
     "output_type": "display_data"
    }
   ],
   "source": [
    "path = 'E:\\PhilipCiunkiewicz\\Windstorm\\SQUIRREL\\Results'\n",
    "files = os.listdir(path)\n",
    "TS = []\n",
    "WS = []\n",
    "\n",
    "for file in files:\n",
    "    if file.endswith('_TS.tif.csv'):\n",
    "        TS.append(file)\n",
    "    else:\n",
    "        WS.append(file)\n",
    "\n",
    "frames = []\n",
    "for file in TS:\n",
    "    fullpath = os.path.join(path,file)\n",
    "    frames.append(pd.read_csv(fullpath,usecols=['RSP (Resolution Scaled Pearson-Correlation)',\n",
    "                                                'RSE (Resolution Scaled Error)']))\n",
    "df_TS = pd.concat(frames)\n",
    "df_TS.columns = header=['RSP (TS)','RSE (TS)']\n",
    "\n",
    "frames = []\n",
    "for file in WS:\n",
    "    fullpath = os.path.join(path,file)\n",
    "    frames.append(pd.read_csv(fullpath,usecols=['RSP (Resolution Scaled Pearson-Correlation)',\n",
    "                                                'RSE (Resolution Scaled Error)']))\n",
    "df_WS = pd.concat(frames)\n",
    "df_WS.columns = header=['RSP (WS)','RSE (WS)']\n",
    "\n",
    "SQUIRREL = pd.concat([df_TS, df_WS], axis=1, join='inner')\n",
    "SQUIRREL = SQUIRREL.reset_index(drop=True)\n",
    "\n",
    "WS = [x.strip('RSP and RSE values ') for x in WS]\n",
    "WS = [x.strip('_WS.tif.csv') for x in WS]\n",
    "SQUIRREL['filename'] = WS\n",
    "SQUIRREL\n",
    "\n",
    "ax = SQUIRREL.plot(y=['RSP (TS)','RSP (WS)'],style=['o','x'])\n",
    "_ = ax.plot([0,6],np.mean(SQUIRREL['RSP (TS)'])*np.ones(2),'--',label='TS mean')\n",
    "_ = ax.plot([0,6],np.mean(SQUIRREL['RSP (WS)'])*np.ones(2),'-',label='WS mean')\n",
    "_ = ax.legend()"
   ]
  },
  {
   "cell_type": "code",
   "execution_count": 107,
   "metadata": {
    "scrolled": false
   },
   "outputs": [
    {
     "data": {
      "image/png": "[encoded data removed]",
      "text/plain": [
       "<Figure size 576x288 with 1 Axes>"
      ]
     },
     "metadata": {
      "needs_background": "light"
     },
     "output_type": "display_data"
    }
   ],
   "source": [
    "path = 'E:\\PhilipCiunkiewicz\\Windstorm\\SQUIRREL\\Results2'\n",
    "files = os.listdir(path)\n",
    "TS = []\n",
    "WS = []\n",
    "\n",
    "for file in files:\n",
    "    if file.endswith('_TS.tif.csv'):\n",
    "        TS.append(file)\n",
    "    else:\n",
    "        WS.append(file)\n",
    "\n",
    "frames = []\n",
    "for file in TS:\n",
    "    fullpath = os.path.join(path,file)\n",
    "    frames.append(pd.read_csv(fullpath,usecols=['RSP (Resolution Scaled Pearson-Correlation)',\n",
    "                                                'RSE (Resolution Scaled Error)']))\n",
    "df_TS = pd.concat(frames)\n",
    "df_TS.columns = header=['RSP (TS)','RSE (TS)']\n",
    "\n",
    "frames = []\n",
    "for file in WS:\n",
    "    fullpath = os.path.join(path,file)\n",
    "    frames.append(pd.read_csv(fullpath,usecols=['RSP (Resolution Scaled Pearson-Correlation)',\n",
    "                                                'RSE (Resolution Scaled Error)']))\n",
    "df_WS = pd.concat(frames)\n",
    "df_WS.columns = header=['RSP (WS)','RSE (WS)']\n",
    "\n",
    "SQUIRREL = pd.concat([df_TS, df_WS], axis=1, join='inner')\n",
    "SQUIRREL = SQUIRREL.reset_index(drop=True)\n",
    "\n",
    "ax = SQUIRREL.plot(y=['RSP (TS)','RSP (WS)'],style=['o','x'])"
   ]
  },
  {
   "cell_type": "code",
   "execution_count": 109,
   "metadata": {},
   "outputs": [
    {
     "data": {
      "text/plain": [
       "[<matplotlib.lines.Line2D at 0x16ce6460b70>]"
      ]
     },
     "execution_count": 109,
     "metadata": {},
     "output_type": "execute_result"
    },
    {
     "data": {
      "text/plain": [
       "[<matplotlib.lines.Line2D at 0x16ce6436ef0>]"
      ]
     },
     "execution_count": 109,
     "metadata": {},
     "output_type": "execute_result"
    },
    {
     "data": {
      "text/plain": [
       "0.879"
      ]
     },
     "execution_count": 109,
     "metadata": {},
     "output_type": "execute_result"
    },
    {
     "data": {
      "text/plain": [
       "0.8665"
      ]
     },
     "execution_count": 109,
     "metadata": {},
     "output_type": "execute_result"
    },
    {
     "data": {
      "image/png": "[encoded data removed]",
      "text/plain": [
       "<Figure size 576x288 with 1 Axes>"
      ]
     },
     "metadata": {
      "needs_background": "light"
     },
     "output_type": "display_data"
    }
   ],
   "source": [
    "difference = SQUIRREL['RSP (WS)']-SQUIRREL['RSP (TS)']\n",
    "plt.plot(difference,'o')\n",
    "plt.plot([0,54],[0,0],'r--')\n",
    "np.median(SQUIRREL['RSP (TS)'])\n",
    "np.median(SQUIRREL['RSP (WS)'])"
   ]
  },
  {
   "cell_type": "code",
   "execution_count": null,
   "metadata": {},
   "outputs": [],
   "source": []
  }
 ],
 "metadata": {
  "kernelspec": {
   "display_name": "Python 3",
   "language": "python",
   "name": "python3"
  },
  "language_info": {
   "codemirror_mode": {
    "name": "ipython",
    "version": 3
   },
   "file_extension": ".py",
   "mimetype": "text/x-python",
   "name": "python",
   "nbconvert_exporter": "python",
   "pygments_lexer": "ipython3",
   "version": "3.7.1"
  }
 },
 "nbformat": 4,
 "nbformat_minor": 2
}
